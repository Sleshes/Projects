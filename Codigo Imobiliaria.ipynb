{
 "cells": [
  {
   "cell_type": "code",
   "execution_count": 7,
   "metadata": {},
   "outputs": [],
   "source": [
    "import selenium\n",
    "from selenium import webdriver\n",
    "from selenium.webdriver.common.by import By\n",
    "from selenium.webdriver.chrome.options import Options\n",
    "from selenium.webdriver.support import expected_conditions as EC\n",
    "import os"
   ]
  },
  {
   "cell_type": "code",
   "execution_count": 8,
   "metadata": {},
   "outputs": [
    {
     "name": "stderr",
     "output_type": "stream",
     "text": [
      "C:\\Users\\Lenovo\\Anaconda3\\lib\\site-packages\\ipykernel_launcher.py:26: DeprecationWarning: use options instead of chrome_options\n"
     ]
    }
   ],
   "source": [
    "#configurações do webdriver\n",
    "\n",
    "options = Options()\n",
    "download_dir = 'C:/Users/Lenovo/Documents/codigo_imobiliaria/download/'\n",
    "\n",
    "options.add_argument(\"--disable-dev-shm-usage\")\n",
    "options.add_argument(\"--no-sandbox\")\n",
    "options.add_argument(\"disable-infobars\")\n",
    "options.add_argument(\"--window-size=1920x1080\")\n",
    "\n",
    "is_headless = False #Para exibir os processos no site manter False\n",
    "\n",
    "if is_headless:\n",
    "    options.add_argument('--headless')\n",
    "\n",
    "options.add_experimental_option(\"prefs\", {\n",
    "    \"download.default_directory\":download_dir,\n",
    "    \"download.prompt_for_download\": False,\n",
    "    \"download.directory_upgrade\": True,\n",
    "    \"safebrowsing.enabled\": True,\n",
    "    \"plugins.always_open_pdf_externally\": True\n",
    "    # options.AddUserProfilePreference(\"profile.default_content_setting_values.automatic_downloads\", 1);\n",
    "})\n",
    "\n",
    "driver = webdriver.Chrome(chrome_options=options,\n",
    "                               executable_path='C:/Users/Lenovo/Documents/codigo_imobiliaria/chromedriver.exe')\n",
    "\n",
    "driver.implicitly_wait(120)  # sempre esperar até 2 minutos para que as páginas carreguem\n"
   ]
  },
  {
   "cell_type": "code",
   "execution_count": 10,
   "metadata": {},
   "outputs": [],
   "source": [
    "driver.get('https://www.quintoandar.com.br/')"
   ]
  },
  {
   "cell_type": "code",
   "execution_count": 14,
   "metadata": {},
   "outputs": [
    {
     "ename": "SyntaxError",
     "evalue": "EOL while scanning string literal (<ipython-input-14-5afb4dea527b>, line 9)",
     "output_type": "error",
     "traceback": [
      "\u001b[1;36m  File \u001b[1;32m\"<ipython-input-14-5afb4dea527b>\"\u001b[1;36m, line \u001b[1;32m9\u001b[0m\n\u001b[1;33m    driver.find_element_by_xpath(r\"*//a[href='imovel/']\"\")\u001b[0m\n\u001b[1;37m                                                          ^\u001b[0m\n\u001b[1;31mSyntaxError\u001b[0m\u001b[1;31m:\u001b[0m EOL while scanning string literal\n"
     ]
    }
   ],
   "source": [
    "lista_estados =[{'nome':'sao paulo','sigla':'sp'},\n",
    "                {'nome':'rio de janeiro', 'sigla':'rj'}]\n",
    "\n",
    "for estado in lista_estados:\n",
    "    url_base = 'https://www.quintoandar.com.br/alugar/imovel/{}-{}-brasil/'\n",
    "    url = url_base.format(estado['nome'].replace(' ', '-'), estado['sigla'])\n",
    "    driver.get(url)\n",
    "    \n",
    "    driver.find_element_by_xpath(r\"//a[href='imovel/']\")"
   ]
  },
  {
   "cell_type": "code",
   "execution_count": 20,
   "metadata": {},
   "outputs": [
    {
     "ename": "AttributeError",
     "evalue": "'WebElement' object has no attribute 'GetAttribute'",
     "output_type": "error",
     "traceback": [
      "\u001b[1;31m---------------------------------------------------------------------------\u001b[0m",
      "\u001b[1;31mAttributeError\u001b[0m                            Traceback (most recent call last)",
      "\u001b[1;32m<ipython-input-20-77c08de44d13>\u001b[0m in \u001b[0;36m<module>\u001b[1;34m\u001b[0m\n\u001b[1;32m----> 1\u001b[1;33m \u001b[0manuncios\u001b[0m \u001b[1;33m=\u001b[0m \u001b[0mdriver\u001b[0m\u001b[1;33m.\u001b[0m\u001b[0mfind_element_by_tag_name\u001b[0m\u001b[1;33m(\u001b[0m\u001b[1;34m'a'\u001b[0m\u001b[1;33m)\u001b[0m\u001b[1;33m.\u001b[0m\u001b[0mGetAttribute\u001b[0m\u001b[1;33m(\u001b[0m\u001b[1;34m'href'\u001b[0m\u001b[1;33m)\u001b[0m\u001b[1;33m.\u001b[0m\u001b[0mContains\u001b[0m\u001b[1;33m(\u001b[0m\u001b[1;34m'imovel/'\u001b[0m\u001b[1;33m)\u001b[0m\u001b[1;33m\u001b[0m\u001b[1;33m\u001b[0m\u001b[0m\n\u001b[0m\u001b[0;32m      2\u001b[0m \u001b[1;31m#seleciona as tags \"a\" que tem o href que contém a string 'imovel/'\u001b[0m\u001b[1;33m\u001b[0m\u001b[1;33m\u001b[0m\u001b[1;33m\u001b[0m\u001b[0m\n\u001b[0;32m      3\u001b[0m \u001b[1;33m\u001b[0m\u001b[0m\n\u001b[0;32m      4\u001b[0m \u001b[1;32mfor\u001b[0m \u001b[0manuncio\u001b[0m \u001b[1;32min\u001b[0m \u001b[0manuncios\u001b[0m\u001b[1;33m:\u001b[0m\u001b[1;33m\u001b[0m\u001b[1;33m\u001b[0m\u001b[0m\n\u001b[0;32m      5\u001b[0m     \u001b[0mresult\u001b[0m \u001b[1;33m=\u001b[0m \u001b[0manuncio\u001b[0m\u001b[1;33m.\u001b[0m\u001b[0mtext\u001b[0m\u001b[1;33m(\u001b[0m\u001b[1;33m)\u001b[0m\u001b[1;33m\u001b[0m\u001b[1;33m\u001b[0m\u001b[0m\n",
      "\u001b[1;31mAttributeError\u001b[0m: 'WebElement' object has no attribute 'GetAttribute'"
     ]
    }
   ],
   "source": [
    "anuncios = driver.find_element_by_tag_name('a').GetAttribute('href').Contains('imovel/')\n",
    "#seleciona as tags \"a\" que tem o href que contém a string 'imovel/'\n",
    "\n",
    "for anuncio in anuncios:\n",
    "    result = anuncio.text()\n",
    "    print(result)"
   ]
  }
 ],
 "metadata": {
  "kernelspec": {
   "display_name": "Python 3",
   "language": "python",
   "name": "python3"
  },
  "language_info": {
   "codemirror_mode": {
    "name": "ipython",
    "version": 3
   },
   "file_extension": ".py",
   "mimetype": "text/x-python",
   "name": "python",
   "nbconvert_exporter": "python",
   "pygments_lexer": "ipython3",
   "version": "3.7.4"
  }
 },
 "nbformat": 4,
 "nbformat_minor": 2
}
